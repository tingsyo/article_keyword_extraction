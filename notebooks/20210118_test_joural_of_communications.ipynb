{
 "cells": [
  {
   "cell_type": "code",
   "execution_count": 1,
   "metadata": {},
   "outputs": [
    {
     "name": "stdout",
     "output_type": "stream",
     "text": [
      "23\n"
     ]
    }
   ],
   "source": [
    "import PyPDF2\n",
    "\n",
    "# Read sample pdf\n",
    "pdoc = PyPDF2.PdfFileReader(open('../../sample/jqaa028.pdf','rb'))\n",
    "print(pdoc.numPages)"
   ]
  },
  {
   "cell_type": "code",
   "execution_count": 3,
   "metadata": {},
   "outputs": [
    {
     "name": "stdout",
     "output_type": "stream",
     "text": [
      "['ORIGINALARTICLE', 'CasualResistance:ALongitudinalCase', 'StudyofVideoGaming™sGendered', '', 'ConstructionandRelatedAudience', '', 'Perceptions', 'AmandaC.Cote', 'UniversityofOregonSchoolofJournalismandCommunication,AllenHall,1275UniversityofOregon,Eugene,', 'OR97403-1275,USA', 'Manymediaareassociatedwithmasculinityorfemininityandmaleorfemaleaudiences,', 'whichlinksthemtobroaderpowerstructuresaroundgender.Mediascholarsthus', '', 'mustunderstandhowgenderedconstructionsdevelopandchange,andwhatthey', 'meanforaudiences.Thisarticleaddressesthesequestionsthroughlongitudinal,in-', 'depthinterviewswithfemalevideogamers(2012–2018),conductedastheriseofcasual', '', 'videogamespotentiallystartedredefininggaming’shistoricalmasculinization.The', 'analysisshowsthatparticipantshavenegotiatedrelationshipswithcasualness.While', 'manycelebratecasualgames’potentialforwelcomingnewaudiences,othersresistcas-', '', 'ual’sinfluencetosafeguardtheirself-identificationasgamers.Theseresultshighlight', 'howamedium’sgenderedconstructionmaynotbesalienttoconsumers,whocarefully', 'navigatedividesbetweentheirownandindustriallydesignedidentities,butcansimul-', '', 'taneouslyreaffirmexistingpowerstructures.Further,howparticipants’viewschange', 'overtimeemphasizescommunication’songoingneedforlongitudinalaudiencestudies', 'thataddressquestionsofmedia,identity,andinclusion.', 'Keywords:', 'Videogames,gender,gamestudies,feministmediastudies,hegemony,casual', 'games,in-depthinterviews,longitudinalaudiencestudies', 'doi:10.1093/joc/jqaa028', 'Fromcomicbookstosoapoperas,manymediaaregendered,associatedwith', 'masculinityorfemininityandwithmaleorfemaleaudiences.Takecomputing,', 'whichsocietyandcultureorienttowardmenmorethanwomen.Mostprogrammers', '', 'aremen,popularrepresentationsofcomputerprogrammerstendtoshowmore', 'menthanwomen,andparentsoftenseecomputingasmoreacceptableforboychil-', 'drenthanforgirlchildren(e.g.,', 'Ensmenger,2012', ';Gilmour,1999', ';Jenson,Fisher,&', '1Correspondingauthor:AmandaC.Cote;e-mail:acote@uoregon.edu', 'JournalofCommunication', '70(2020)819Œ841', 'VCTheAuthor(s)2020.PublishedbyOxfordUniversityPressonbehalfof', 'InternationalCommunicationAssociation.Allrightsreserved.Forpermissions,pleaseemail:journals.permissions@oup.com', '819JournalofCommunicationISSN0021-9916', 'Downloaded from https://academic.oup.com/joc/article/70/6/819/5880749 by Academia Sinica,  panlingyen@gmail.com on 18 January 2021']\n"
     ]
    }
   ],
   "source": [
    "# Parse the first page\n",
    "text = pdoc.getPage(0).extractText()\n",
    "tarr = text.split('\\n')\n",
    "print(tarr)\n"
   ]
  },
  {
   "cell_type": "code",
   "execution_count": 7,
   "metadata": {},
   "outputs": [
    {
     "name": "stdout",
     "output_type": "stream",
     "text": [
      "28\n",
      "31\n",
      "Keywords start from: 28\n",
      "DOI: doi:10.1093/joc/jqaa028\n",
      "Keywords:\n",
      "    Videogames\n",
      "    gender\n",
      "    gamestudies\n",
      "    feministmediastudies\n",
      "    hegemony\n",
      "    casual\n",
      "    games\n",
      "    in-depthinterviews\n",
      "    longitudinalaudiencestudies\n"
     ]
    }
   ],
   "source": [
    "# Looking for the 'Keyword section'\n",
    "# In this document, it's between \"Keywords\" and \"doi:10.1093/joc/jqaa028\".\n",
    "# Hence, we need to find the index of these two anchors.\n",
    "keywords = []\n",
    "\n",
    "# For starting index\n",
    "kwidx = tarr.index('Keywords:')\n",
    "print(kwidx)\n",
    "\n",
    "# For ending index\n",
    "doiidx = kwidx+1\n",
    "while 1:\n",
    "    string = tarr[doiidx]\n",
    "    if string.startswith('doi:'):\n",
    "        break\n",
    "    else:\n",
    "        keywords+=string.split(',')\n",
    "        doiidx+=1\n",
    "        \n",
    "print(doiidx)\n",
    "\n",
    "# Show results\n",
    "print('Keywords start from: ' + str(kwidx))\n",
    "print('DOI: ' + tarr[doiidx])\n",
    "print('Keywords:')\n",
    "for k in keywords:\n",
    "    print('    '+k)"
   ]
  },
  {
   "cell_type": "code",
   "execution_count": null,
   "metadata": {},
   "outputs": [],
   "source": []
  }
 ],
 "metadata": {
  "kernelspec": {
   "display_name": "Python 3",
   "language": "python",
   "name": "python3"
  },
  "language_info": {
   "codemirror_mode": {
    "name": "ipython",
    "version": 3
   },
   "file_extension": ".py",
   "mimetype": "text/x-python",
   "name": "python",
   "nbconvert_exporter": "python",
   "pygments_lexer": "ipython3",
   "version": "3.7.9"
  }
 },
 "nbformat": 4,
 "nbformat_minor": 4
}
