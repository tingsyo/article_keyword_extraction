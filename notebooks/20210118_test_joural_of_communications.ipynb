{
 "cells": [
  {
   "cell_type": "code",
   "execution_count": 1,
   "metadata": {},
   "outputs": [
    {
     "name": "stdout",
     "output_type": "stream",
     "text": [
      "23\n"
     ]
    }
   ],
   "source": [
    "import PyPDF2\n",
    "\n",
    "# Read sample pdf\n",
    "pdoc = PyPDF2.PdfFileReader(open('../../sample/jqaa028.pdf','rb'))\n",
    "print(pdoc.numPages)"
   ]
  },
  {
   "cell_type": "code",
   "execution_count": 3,
   "metadata": {},
   "outputs": [
    {
     "name": "stdout",
     "output_type": "stream",
     "text": [
      "['ORIGINALARTICLE', 'CasualResistance:ALongitudinalCase', 'StudyofVideoGaming™sGendered', '', 'ConstructionandRelatedAudience', '', 'Perceptions', 'AmandaC.Cote', 'UniversityofOregonSchoolofJournalismandCommunication,AllenHall,1275UniversityofOregon,Eugene,', 'OR97403-1275,USA', 'Manymediaareassociatedwithmasculinityorfemininityandmaleorfemaleaudiences,', 'whichlinksthemtobroaderpowerstructuresaroundgender.Mediascholarsthus', '', 'mustunderstandhowgenderedconstructionsdevelopandchange,andwhatthey', 'meanforaudiences.Thisarticleaddressesthesequestionsthroughlongitudinal,in-', 'depthinterviewswithfemalevideogamers(2012–2018),conductedastheriseofcasual', '', 'videogamespotentiallystartedredefininggaming’shistoricalmasculinization.The', 'analysisshowsthatparticipantshavenegotiatedrelationshipswithcasualness.While', 'manycelebratecasualgames’potentialforwelcomingnewaudiences,othersresistcas-', '', 'ual’sinfluencetosafeguardtheirself-identificationasgamers.Theseresultshighlight', 'howamedium’sgenderedconstructionmaynotbesalienttoconsumers,whocarefully', 'navigatedividesbetweentheirownandindustriallydesignedidentities,butcansimul-', '', 'taneouslyreaffirmexistingpowerstructures.Further,howparticipants’viewschange', 'overtimeemphasizescommunication’songoingneedforlongitudinalaudiencestudies', 'thataddressquestionsofmedia,identity,andinclusion.', 'Keywords:', 'Videogames,gender,gamestudies,feministmediastudies,hegemony,casual', 'games,in-depthinterviews,longitudinalaudiencestudies', 'doi:10.1093/joc/jqaa028', 'Fromcomicbookstosoapoperas,manymediaaregendered,associatedwith', 'masculinityorfemininityandwithmaleorfemaleaudiences.Takecomputing,', 'whichsocietyandcultureorienttowardmenmorethanwomen.Mostprogrammers', '', 'aremen,popularrepresentationsofcomputerprogrammerstendtoshowmore', 'menthanwomen,andparentsoftenseecomputingasmoreacceptableforboychil-', 'drenthanforgirlchildren(e.g.,', 'Ensmenger,2012', ';Gilmour,1999', ';Jenson,Fisher,&', '1Correspondingauthor:AmandaC.Cote;e-mail:acote@uoregon.edu', 'JournalofCommunication', '70(2020)819Œ841', 'VCTheAuthor(s)2020.PublishedbyOxfordUniversityPressonbehalfof', 'InternationalCommunicationAssociation.Allrightsreserved.Forpermissions,pleaseemail:journals.permissions@oup.com', '819JournalofCommunicationISSN0021-9916', 'Downloaded from https://academic.oup.com/joc/article/70/6/819/5880749 by Academia Sinica,  panlingyen@gmail.com on 18 January 2021']\n"
     ]
    }
   ],
   "source": [
    "# Parse the first page\n",
    "text = pdoc.getPage(0).extractText()\n",
    "tarr = text.split('\\n')\n",
    "print(tarr)\n"
   ]
  },
  {
   "cell_type": "code",
   "execution_count": 9,
   "metadata": {},
   "outputs": [
    {
     "name": "stdout",
     "output_type": "stream",
     "text": [
      "28\n",
      "31\n",
      "Keywords start from: 28\n",
      "DOI: 10.1093/joc/jqaa028\n",
      "Keywords:\n",
      "    Videogames\n",
      "    gender\n",
      "    gamestudies\n",
      "    feministmediastudies\n",
      "    hegemony\n",
      "    casualgames\n",
      "    in-depthinterviews\n",
      "    longitudinalaudiencestudies\n"
     ]
    }
   ],
   "source": [
    "# Looking for the 'Keyword section'\n",
    "# In this document, it's between \"Keywords\" and \"doi:10.1093/joc/jqaa028\".\n",
    "# Hence, we need to find the index of these two anchors.\n",
    "kwstring = ''\n",
    "\n",
    "# For starting index\n",
    "kwidx = tarr.index('Keywords:')\n",
    "print(kwidx)\n",
    "\n",
    "# For ending index\n",
    "doiidx = kwidx+1\n",
    "while 1:\n",
    "    string = tarr[doiidx]\n",
    "    if string.startswith('doi:'):\n",
    "        break\n",
    "    else:\n",
    "        kwstring+=string\n",
    "        doiidx+=1\n",
    "        \n",
    "print(doiidx)\n",
    "\n",
    "keywords = kwstring.split(',')\n",
    "doi = tarr[doiidx].replace('doi:','')\n",
    "\n",
    "# Show results\n",
    "print('Keywords start from: ' + str(kwidx))\n",
    "print('DOI: ' + doi)\n",
    "print('Keywords:')\n",
    "for k in keywords:\n",
    "    print('    '+k)"
   ]
  },
  {
   "cell_type": "code",
   "execution_count": 25,
   "metadata": {},
   "outputs": [],
   "source": [
    "# Parsing function\n",
    "def parse_joc_article(uri, verbose=0):\n",
    "    import PyPDF2\n",
    "    # Read sample pdf\n",
    "    pdoc = PyPDF2.PdfFileReader(open(uri,'rb'))\n",
    "    if verbose==0:\n",
    "        print(pdoc.numPages)\n",
    "    # Retrieve the first page\n",
    "    text = pdoc.getPage(0).extractText()\n",
    "    tarr = text.split('\\n')\n",
    "    if verbose>1:\n",
    "        print(tarr)\n",
    "    # Looking for the 'Keyword section'\n",
    "    # In this document, it's between \"Keywords\" and \"doi:10.1093/joc/jqaa028\".\n",
    "    # Hence, we need to find the index of these two anchors.\n",
    "    kwstring = ''\n",
    "    # For starting index\n",
    "    kwidx = tarr.index('Keywords:')\n",
    "    if verbose>1:\n",
    "        print(kwidx)\n",
    "    # For ending index\n",
    "    doiidx = kwidx+1\n",
    "    while 1:\n",
    "        string = tarr[doiidx]\n",
    "        if string.startswith('doi:'):\n",
    "            break\n",
    "        else:\n",
    "            kwstring+=string\n",
    "            doiidx+=1\n",
    "    if verbose>1:\n",
    "        print(doiidx)\n",
    "    # Wrapping up\n",
    "    keywords = kwstring.split(',')\n",
    "    doi = tarr[doiidx].replace('doi:','')\n",
    "    # Show results\n",
    "    if verbose>0:    \n",
    "        print('Keywords start from: ' + str(kwidx))\n",
    "        print('DOI: ' + doi)\n",
    "        print('Keywords:')\n",
    "        for k in keywords:\n",
    "            print('    '+k)\n",
    "        print('')\n",
    "    return({'doi':doi, 'keywords':keywords})\n"
   ]
  },
  {
   "cell_type": "code",
   "execution_count": 19,
   "metadata": {},
   "outputs": [
    {
     "name": "stdout",
     "output_type": "stream",
     "text": [
      "Total records: 5\n",
      "      filename                       uri\n",
      "0  jqaa028.pdf  ../../sample/jqaa028.pdf\n",
      "1  jqaa030.pdf  ../../sample/jqaa030.pdf\n",
      "2  jqaa031.pdf  ../../sample/jqaa031.pdf\n",
      "3  jqaa032.pdf  ../../sample/jqaa032.pdf\n",
      "4  jqaa034.pdf  ../../sample/jqaa034.pdf\n"
     ]
    }
   ],
   "source": [
    "# Get all articles\n",
    "import os\n",
    "import pandas as pd\n",
    "datapath = '../../sample/'\n",
    "\n",
    "datafiles = []\n",
    "for root, dirs, files in os.walk(datapath):\n",
    "    for fn in files:\n",
    "        if fn.endswith('.pdf'):\n",
    "             datafiles.append({'filename':fn, 'uri':os.path.join(root, fn)})\n",
    "datafiles = pd.DataFrame(datafiles)\n",
    "print(\"Total records: \"+str(datafiles.shape[0]))\n",
    "print(datafiles.head())\n"
   ]
  },
  {
   "cell_type": "code",
   "execution_count": 26,
   "metadata": {},
   "outputs": [
    {
     "name": "stdout",
     "output_type": "stream",
     "text": [
      "Keywords start from: 28\n",
      "DOI: 10.1093/joc/jqaa028\n",
      "Keywords:\n",
      "    Videogames\n",
      "    gender\n",
      "    gamestudies\n",
      "    feministmediastudies\n",
      "    hegemony\n",
      "    casualgames\n",
      "    in-depthinterviews\n",
      "    longitudinalaudiencestudies\n",
      "\n",
      "Keywords start from: 28\n",
      "DOI: 10.1093/joc/jqaa030\n",
      "Keywords:\n",
      "    Appreciation\n",
      "    AutobiographicalMemory\n",
      "    MeaningfulEntertainment\n",
      "    Nostalgia\n",
      "    Transportation\n",
      "\n",
      "Keywords start from: 26\n",
      "DOI: 10.1093/joc/jqaa031\n",
      "Keywords:\n",
      "    IncidentalExposure\n",
      "    PoliticalKnowledge\n",
      "    Learning\n",
      "    OnlineNews\n",
      "    AttentiontoNews\n",
      "\n",
      "Keywords start from: 24\n",
      "DOI: 10.1093/joc/jqaa032\n",
      "Keywords:\n",
      "    InternetCensorship\n",
      "    China\n",
      "    WeChat\n",
      "    SocialMedia\n",
      "    PublicSphere\n",
      "\n",
      "Keywords start from: 24\n",
      "DOI: 10.1093/joc/jqaa034\n",
      "Keywords:\n",
      "    ParasocialRelationships\n",
      "    ParasocialInteraction\n",
      "    Meta-analysis\n",
      "    MediaInvolvement\n",
      "\n"
     ]
    }
   ],
   "source": [
    "for i in range(datafiles.shape[0]):\n",
    "    parse_joc_article(datafiles.uri.iloc[i], verbose=1)"
   ]
  },
  {
   "cell_type": "code",
   "execution_count": null,
   "metadata": {},
   "outputs": [],
   "source": []
  }
 ],
 "metadata": {
  "kernelspec": {
   "display_name": "Python 3",
   "language": "python",
   "name": "python3"
  },
  "language_info": {
   "codemirror_mode": {
    "name": "ipython",
    "version": 3
   },
   "file_extension": ".py",
   "mimetype": "text/x-python",
   "name": "python",
   "nbconvert_exporter": "python",
   "pygments_lexer": "ipython3",
   "version": "3.7.9"
  }
 },
 "nbformat": 4,
 "nbformat_minor": 4
}
